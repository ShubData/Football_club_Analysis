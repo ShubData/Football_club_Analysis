{
 "cells": [
  {
   "cell_type": "markdown",
   "id": "128dff12",
   "metadata": {},
   "source": [
    "# generating_gps data as per columns"
   ]
  },
  {
   "cell_type": "markdown",
   "id": "701a44a8",
   "metadata": {},
   "source": [
    "As per the required condition and constraint of each features is different,\n",
    "different methods have to be used for generation of data"
   ]
  },
  {
   "cell_type": "code",
   "execution_count": null,
   "id": "4c1a2773",
   "metadata": {},
   "outputs": [],
   "source": [
    "import pandas as pd\n",
    "import numpy as np\n",
    "import matplotlib.pyplot as plt\n",
    "from  scipy.stats import pearsonr\n",
    "from scipy.stats import skewnorm\n",
    "from datetime import datetime as dt"
   ]
  },
  {
   "cell_type": "markdown",
   "id": "0022a1f2",
   "metadata": {},
   "source": [
    " Creating first_setup"
   ]
  },
  {
   "cell_type": "code",
   "execution_count": null,
   "id": "5b1b6e87",
   "metadata": {},
   "outputs": [],
   "source": [
    "np.random.seed(101)"
   ]
  },
  {
   "cell_type": "markdown",
   "id": "4572790e",
   "metadata": {},
   "source": [
    "# Session_duration"
   ]
  },
  {
   "cell_type": "code",
   "execution_count": null,
   "id": "712aecfc",
   "metadata": {},
   "outputs": [],
   "source": [
    "def session_gen(loc,scale):\n",
    "    z=np.random.normal(loc=loc,scale=scale,size=1400)\n",
    "    x= z.astype(int)\n",
    "    return x"
   ]
  },
  {
   "cell_type": "code",
   "execution_count": null,
   "id": "e26c9f67",
   "metadata": {},
   "outputs": [],
   "source": [
    "Session_duration=session_gen(70,5)\n"
   ]
  },
  {
   "cell_type": "markdown",
   "id": "c974dc22",
   "metadata": {},
   "source": [
    "# Player load and Distance with a correlation of 0.4"
   ]
  },
  {
   "cell_type": "code",
   "execution_count": null,
   "id": "6483744d",
   "metadata": {},
   "outputs": [],
   "source": [
    "def load_and_distance_gen(z):\n",
    "    pl = np.arange(300,600)\n",
    "    d=np.arange(0,10000)\n",
    "    means=[pl.mean(),d.mean()]\n",
    "    stds=[pl.std()/3,d.std()/3]\n",
    "    corr=z\n",
    "    covariance= [[stds[0]**2,  stds[0]*stds[1]*corr],\n",
    "            [stds[0]*stds[1]*corr,           stds[1]**2]]\n",
    "    m=np.random.multivariate_normal(means,covariance,1400).T\n",
    "    player_load=np.round(m[0],2)\n",
    "    distance=m[1].astype(int)\n",
    "    return player_load,distance"
   ]
  },
  {
   "cell_type": "code",
   "execution_count": null,
   "id": "e4e906cc",
   "metadata": {
    "scrolled": true
   },
   "outputs": [],
   "source": [
    "player_load,distance=load_and_distance_gen(0.4)\n",
    "distance.max()"
   ]
  },
  {
   "cell_type": "markdown",
   "id": "f076f83e",
   "metadata": {},
   "source": [
    "# Rate of Perceived Exertion (RPE) "
   ]
  },
  {
   "cell_type": "code",
   "execution_count": null,
   "id": "72092db8",
   "metadata": {},
   "outputs": [],
   "source": [
    "def rpe(a,loc):\n",
    "    skew=skewnorm.rvs(a=a,loc=loc,scale=1,size=1400)\n",
    "    skew=skew.astype(int)\n",
    "    return skew"
   ]
  },
  {
   "cell_type": "code",
   "execution_count": null,
   "id": "88ff808a",
   "metadata": {},
   "outputs": [],
   "source": [
    "Rate_of_Perceived_Exertion=rpe(-9,9)"
   ]
  },
  {
   "cell_type": "markdown",
   "id": "01a2a1e8",
   "metadata": {},
   "source": [
    "# Acceleration"
   ]
  },
  {
   "cell_type": "code",
   "execution_count": null,
   "id": "5f9b3aee",
   "metadata": {},
   "outputs": [],
   "source": [
    "def acc(loc,scale):\n",
    "    z=np.random.normal(loc=loc,scale=scale,size=1400)\n",
    "    x= z.astype(int)\n",
    "    return x"
   ]
  },
  {
   "cell_type": "code",
   "execution_count": null,
   "id": "aac6c5d5",
   "metadata": {},
   "outputs": [],
   "source": [
    "acceleration=acc(140,20)"
   ]
  },
  {
   "cell_type": "markdown",
   "id": "abe31387",
   "metadata": {},
   "source": [
    "# Date time\n",
    "\n",
    "It has to been in a particular range and with 20 entries(players) for each date."
   ]
  },
  {
   "cell_type": "code",
   "execution_count": null,
   "id": "1478c8b8",
   "metadata": {},
   "outputs": [],
   "source": [
    "def date_gen(start):\n",
    "    x=pd.date_range(start=start,periods=70*20,freq='1.2H')\n",
    "    y=x.strftime(\"%Y-%m-%d\")\n",
    "    return y"
   ]
  },
  {
   "cell_type": "code",
   "execution_count": null,
   "id": "79d88d81",
   "metadata": {},
   "outputs": [],
   "source": [
    "dates_fourteen= date_gen('1-1-14')\n",
    "dates_fourteen.shape"
   ]
  },
  {
   "cell_type": "markdown",
   "id": "80c7c21f",
   "metadata": {},
   "source": [
    "# Player_Names"
   ]
  },
  {
   "cell_type": "code",
   "execution_count": null,
   "id": "a1aceec7",
   "metadata": {},
   "outputs": [],
   "source": [
    "names=pd.Series(['Thibaut Courtois','Andriy Lunin','Luis Andugar' ,'Toni Fuidias','Lucas Canizares','Diego Pineiro','Pablo Ramon ','Antonio Rudiger','Daniel Carvajal','Eder Militao','David Alaba','Jesus Vallejo','Nacho Fernandez','Marcelo','Ferland Mendy','Mario Gila', 'Miguel Gutierrez','Rafa Marin','Sergio Santos','Carlos Dotor' ])\n",
    "len(names)"
   ]
  },
  {
   "cell_type": "code",
   "execution_count": null,
   "id": "013d8b23",
   "metadata": {},
   "outputs": [],
   "source": [
    "def name_gen():\n",
    "    nu=[]\n",
    "    for x in range(70):\n",
    "        for j in names:\n",
    "            nu.append(j)\n",
    "    return nu"
   ]
  },
  {
   "cell_type": "code",
   "execution_count": null,
   "id": "a31bce0e",
   "metadata": {},
   "outputs": [],
   "source": [
    "Player_Names=name_gen()\n",
    "len(Player_Names)"
   ]
  },
  {
   "cell_type": "markdown",
   "id": "89ca6478",
   "metadata": {},
   "source": [
    "### DataFrame\n",
    "\n",
    "testing generated df"
   ]
  },
  {
   "cell_type": "code",
   "execution_count": null,
   "id": "b38a4900",
   "metadata": {
    "scrolled": true
   },
   "outputs": [],
   "source": [
    "gps_df=pd.DataFrame({'Acceleration':acceleration,'Player_load':player_load,'Distance':distance,'Rate_of_Perceived_Exertion':Rate_of_Perceived_Exertion,'Session_duration':Session_duration},index=([dates_fourteen,Player_Names]))"
   ]
  },
  {
   "cell_type": "code",
   "execution_count": null,
   "id": "11839f5a",
   "metadata": {
    "scrolled": true
   },
   "outputs": [],
   "source": [
    "gps_df.head(40)"
   ]
  },
  {
   "cell_type": "markdown",
   "id": "cae9f26b",
   "metadata": {},
   "source": [
    "## **Generating Data for other years**\n",
    "\n",
    "as the df is well generated as per the constraints we proceed to generate the other dfs as well"
   ]
  },
  {
   "cell_type": "code",
   "execution_count": null,
   "id": "68ad438e",
   "metadata": {},
   "outputs": [],
   "source": [
    "def hist(x):\n",
    "    plt.hist(x)\n",
    "    plt.show()\n",
    "    "
   ]
  },
  {
   "cell_type": "markdown",
   "id": "c80596b8",
   "metadata": {},
   "source": [
    "### Session_durations"
   ]
  },
  {
   "cell_type": "code",
   "execution_count": null,
   "id": "8309af04",
   "metadata": {},
   "outputs": [],
   "source": [
    "session_2015=session_gen(71,5)\n",
    "session_2016=session_gen(72,4)\n",
    "session_2017=session_gen(68,5)\n",
    "session_2018=session_gen(72,3)"
   ]
  },
  {
   "cell_type": "markdown",
   "id": "161deeec",
   "metadata": {},
   "source": [
    "### Player_load and distance"
   ]
  },
  {
   "cell_type": "code",
   "execution_count": null,
   "id": "92afec81",
   "metadata": {},
   "outputs": [],
   "source": [
    "np.random.seed(102)\n",
    "player_load_2015,distance_2015=load_and_distance_gen(0.4)\n",
    "np.random.seed(103)\n",
    "player_load_2016,distance_2016=load_and_distance_gen(0.4)\n",
    "np.random.seed(104)\n",
    "player_load_2017,distance_2017=load_and_distance_gen(0.4)\n",
    "np.random.seed(105)\n",
    "player_load_2018,distance_2018=load_and_distance_gen(0.4)"
   ]
  },
  {
   "cell_type": "markdown",
   "id": "dace5f6e",
   "metadata": {},
   "source": [
    "### Accelerations"
   ]
  },
  {
   "cell_type": "code",
   "execution_count": null,
   "id": "f817cd8d",
   "metadata": {
    "scrolled": true
   },
   "outputs": [],
   "source": [
    "np.random.seed(106)\n",
    "acceleration_2015=acc(145,13)\n",
    "acceleration_2016=acc(139,18)\n",
    "acceleration_2017=acc(138,20)\n",
    "acceleration_2018=acc(130,20)"
   ]
  },
  {
   "cell_type": "markdown",
   "id": "62981bf4",
   "metadata": {},
   "source": [
    "### RPE"
   ]
  },
  {
   "cell_type": "code",
   "execution_count": null,
   "id": "5e53eff1",
   "metadata": {},
   "outputs": [],
   "source": [
    "np.random.seed(106)\n",
    "Rate_of_Perceived_Exertion_2015=rpe(-9,9)\n",
    "np.random.seed(451)\n",
    "Rate_of_Perceived_Exertion_2016=rpe(-8,10)\n",
    "np.random.seed(111)\n",
    "Rate_of_Perceived_Exertion_2017=rpe(-4,9.5)\n",
    "np.random.seed(785)\n",
    "Rate_of_Perceived_Exertion_2018=rpe(-9,9)\n"
   ]
  },
  {
   "cell_type": "markdown",
   "id": "fa3c6c81",
   "metadata": {},
   "source": [
    "### Date"
   ]
  },
  {
   "cell_type": "code",
   "execution_count": null,
   "id": "0b5d1078",
   "metadata": {},
   "outputs": [],
   "source": [
    "Date_2015= date_gen('1-1-15')\n",
    "Date_2016= date_gen('1-1-16')\n",
    "Date_2017= date_gen('1-1-17')\n",
    "Date_2018= date_gen('1-1-18')"
   ]
  },
  {
   "cell_type": "markdown",
   "id": "dd952f14",
   "metadata": {},
   "source": [
    "### Names"
   ]
  },
  {
   "cell_type": "code",
   "execution_count": null,
   "id": "9e906e4c",
   "metadata": {},
   "outputs": [],
   "source": [
    "gps_df_2015=pd.DataFrame({'Acceleration':acceleration_2015,'Player_load':player_load_2015,'Distance':distance_2015,'Rate_of_Perceived_Exertion':Rate_of_Perceived_Exertion_2015,'Session_duration':session_2015},index=([Date_2015,Player_Names]))\n",
    "\n",
    "gps_df_2016=pd.DataFrame({'Acceleration':acceleration_2016,'Player_load':player_load_2016,'Distance':distance_2016,'Rate_of_Perceived_Exertion':Rate_of_Perceived_Exertion_2016,'Session_duration':session_2016},index=([Date_2016,Player_Names]))\n",
    "\n",
    "gps_df_2017=pd.DataFrame({'Acceleration':acceleration_2017,'Player_load':player_load_2017,'Distance':distance_2017,'Rate_of_Perceived_Exertion':Rate_of_Perceived_Exertion_2017,'Session_duration':session_2017},index=([Date_2017,Player_Names]))\n",
    "\n",
    "gps_df_2018=pd.DataFrame({'Acceleration':acceleration_2018,'Player_load':player_load_2018,'Distance':distance_2018,'Rate_of_Perceived_Exertion':Rate_of_Perceived_Exertion_2018,'Session_duration':session_2018},index=([Date_2018,Player_Names]))"
   ]
  },
  {
   "cell_type": "markdown",
   "id": "11541616",
   "metadata": {},
   "source": [
    "#  Joining all DF's"
   ]
  },
  {
   "cell_type": "code",
   "execution_count": null,
   "id": "0f1927ba",
   "metadata": {},
   "outputs": [],
   "source": [
    "main_gps=gps_df.append((gps_df_2015,gps_df_2016,gps_df_2017,gps_df_2018))\n",
    "main_gps.head(40)"
   ]
  },
  {
   "cell_type": "markdown",
   "id": "7751bd54",
   "metadata": {},
   "source": [
    "# Generating Wellness Data"
   ]
  },
  {
   "cell_type": "markdown",
   "id": "20e4ff7d",
   "metadata": {},
   "source": [
    "### Wellness data is collected daily. The columns and restrictions are:\n",
    " * Date\n",
    " * Player Name\n",
    " * Sleep Hours – absolute value. Use realistic values.\n",
    " * Motivation – scale of 1 to 10\n",
    " *\tSoreness – scale of 1 to 10\n",
    " *\tPlayer position – one of 5 values; GK, CB, WM, CM, CF\n"
   ]
  },
  {
   "cell_type": "markdown",
   "id": "d39a31bc",
   "metadata": {},
   "source": [
    "## Sleep Data"
   ]
  },
  {
   "cell_type": "code",
   "execution_count": null,
   "id": "200e8e72",
   "metadata": {},
   "outputs": [],
   "source": [
    "def sleep_and_motivation_gen(z):\n",
    "    sl = np.arange(4,10)\n",
    "    mot=np.arange(1,10)\n",
    "    means=[sl.mean(),mot.mean()]\n",
    "    stds=[sl.std()/3,mot.std()/3]\n",
    "    corr=z\n",
    "    covariance= [[stds[0]**2,  stds[0]*stds[1]*corr],\n",
    "            [stds[0]*stds[1]*corr,           stds[1]**2]]\n",
    "    m=np.random.multivariate_normal(means,covariance,1400).T\n",
    "    sleep=m[0].astype(int)\n",
    "    motivation=m[1].astype(int)\n",
    "    return sleep,motivation"
   ]
  },
  {
   "cell_type": "code",
   "execution_count": null,
   "id": "b4befc41",
   "metadata": {},
   "outputs": [],
   "source": [
    "sleep_2014,motivation_2014=sleep_and_motivation_gen(0.8)\n",
    "np.random.seed(102)\n",
    "sleep_2015,motivation_2015=sleep_and_motivation_gen(0.8)\n",
    "np.random.seed(103)\n",
    "sleep_2016,motivation_2016=sleep_and_motivation_gen(0.8)\n",
    "np.random.seed(104)\n",
    "sleep_2017,motivation_2017=sleep_and_motivation_gen(0.8)\n",
    "np.random.seed(105)\n",
    "sleep_2018,motivation_2018=sleep_and_motivation_gen(0.8)"
   ]
  },
  {
   "cell_type": "markdown",
   "id": "0b25b238",
   "metadata": {},
   "source": [
    "## Soreness "
   ]
  },
  {
   "cell_type": "code",
   "execution_count": null,
   "id": "86f16584",
   "metadata": {},
   "outputs": [],
   "source": [
    "def soreness_gen(rpe):\n",
    "    rpe = rpe\n",
    "    sore=np.arange(1,11)\n",
    "    means=[rpe.mean(),sore.mean()]\n",
    "    stds=[rpe.std()/3,sore.std()/3]\n",
    "    corr=0.7\n",
    "    covariance= [[stds[0]**2,  stds[0]*stds[1]*corr],\n",
    "            [stds[0]*stds[1]*corr,           stds[1]**2]]\n",
    "    m=np.random.multivariate_normal(means,covariance,1400).T\n",
    "    #rpe=m[0].astype(int)\n",
    "    soreness=m[1].astype(int)\n",
    "    return soreness"
   ]
  },
  {
   "cell_type": "code",
   "execution_count": null,
   "id": "8412e758",
   "metadata": {},
   "outputs": [],
   "source": [
    "sore_14=soreness_gen(Rate_of_Perceived_Exertion)\n",
    "np.random.seed(185)\n",
    "sore_15=soreness_gen(Rate_of_Perceived_Exertion_2015)\n",
    "np.random.seed(198)\n",
    "sore_16=soreness_gen(Rate_of_Perceived_Exertion_2016)\n",
    "np.random.seed(175)\n",
    "sore_17=soreness_gen(Rate_of_Perceived_Exertion_2017)\n",
    "np.random.seed(198)\n",
    "sore_18=soreness_gen(Rate_of_Perceived_Exertion_2018)"
   ]
  },
  {
   "cell_type": "markdown",
   "id": "c6994002",
   "metadata": {},
   "source": [
    "## player_pos"
   ]
  },
  {
   "cell_type": "code",
   "execution_count": null,
   "id": "01cdd163",
   "metadata": {},
   "outputs": [],
   "source": [
    "pos=pd.Series(['GK','CB', 'WM', 'CM', 'CF'])"
   ]
  },
  {
   "cell_type": "code",
   "execution_count": null,
   "id": "12f765cd",
   "metadata": {},
   "outputs": [],
   "source": [
    "def position_gen():\n",
    "    nu=[]\n",
    "    for x in range(280):\n",
    "        for j in pos:\n",
    "            nu.append(j)\n",
    "    return nu"
   ]
  },
  {
   "cell_type": "code",
   "execution_count": null,
   "id": "05e7fe0f",
   "metadata": {},
   "outputs": [],
   "source": [
    "postions=position_gen()\n",
    "len(postions)"
   ]
  },
  {
   "cell_type": "markdown",
   "id": "3888530c",
   "metadata": {},
   "source": [
    "## Creating_dfs"
   ]
  },
  {
   "cell_type": "code",
   "execution_count": null,
   "id": "fef0cd2e",
   "metadata": {},
   "outputs": [],
   "source": [
    "well_2014=pd.DataFrame({'Position':postions,'Sleep':sleep_2014,'Motivation':motivation_2014,'Soreness':sore_14},index=([dates_fourteen,Player_Names]))\n",
    "well_2015=pd.DataFrame({'Position':postions,'Sleep':sleep_2015,'Motivation':motivation_2015,'Soreness':sore_15},index=([Date_2015,Player_Names]))\n",
    "well_2016=pd.DataFrame({'Position':postions,'Sleep':sleep_2016,'Motivation':motivation_2016,'Soreness':sore_16},index=([Date_2016,Player_Names]))\n",
    "well_2017=pd.DataFrame({'Position':postions,'Sleep':sleep_2017,'Motivation':motivation_2017,'Soreness':sore_17},index=([Date_2017,Player_Names]))\n",
    "well_2018=pd.DataFrame({'Position':postions,'Sleep':sleep_2018,'Motivation':motivation_2018,'Soreness':sore_18},index=([Date_2018,Player_Names]))"
   ]
  },
  {
   "cell_type": "markdown",
   "id": "e753d235",
   "metadata": {},
   "source": [
    "# Main Wellness DF"
   ]
  },
  {
   "cell_type": "code",
   "execution_count": null,
   "id": "7277146f",
   "metadata": {},
   "outputs": [],
   "source": [
    "Main_wellness_df=well_2014.append((well_2015,well_2016,well_2017,well_2018))"
   ]
  },
  {
   "cell_type": "code",
   "execution_count": null,
   "id": "8a5727d7",
   "metadata": {},
   "outputs": [],
   "source": [
    "Main_wellness_df.head(40)"
   ]
  },
  {
   "cell_type": "markdown",
   "id": "c99b0d4b",
   "metadata": {},
   "source": [
    "# Merging both df"
   ]
  },
  {
   "cell_type": "markdown",
   "id": "62654dda",
   "metadata": {
    "scrolled": true
   },
   "source": [
    "main=pd.merge(main_gps,Main_wellness_df,on='Player_Names')\n",
    "main.head(40)"
   ]
  },
  {
   "cell_type": "code",
   "execution_count": null,
   "id": "8f75d6c9",
   "metadata": {
    "scrolled": true
   },
   "outputs": [],
   "source": [
    "new_df=pd.merge(main_gps,Main_wellness_df,left_index=True,right_index=True)\n",
    "new_df.head(40)"
   ]
  }
 ],
 "metadata": {
  "kernelspec": {
   "display_name": "Python 3 (ipykernel)",
   "language": "python",
   "name": "python3"
  },
  "language_info": {
   "codemirror_mode": {
    "name": "ipython",
    "version": 3
   },
   "file_extension": ".py",
   "mimetype": "text/x-python",
   "name": "python",
   "nbconvert_exporter": "python",
   "pygments_lexer": "ipython3",
   "version": "3.9.6"
  }
 },
 "nbformat": 4,
 "nbformat_minor": 5
}
